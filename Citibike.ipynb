{
 "cells": [
  {
   "cell_type": "code",
   "execution_count": 10,
   "metadata": {},
   "outputs": [],
   "source": [
    "import pandas as pd\n",
    "import math\n"
   ]
  },
  {
   "cell_type": "code",
   "execution_count": 4,
   "metadata": {},
   "outputs": [
    {
     "name": "stderr",
     "output_type": "stream",
     "text": [
      "C:\\Users\\Aichou Diallo\\AppData\\Local\\Temp\\ipykernel_460\\2547413944.py:1: DtypeWarning: Columns (5,7) have mixed types. Specify dtype option on import or set low_memory=False.\n",
      "  df=pd.read_csv(\"202206-citbike-tripdata.csv\")\n"
     ]
    },
    {
     "data": {
      "text/html": [
       "<div>\n",
       "<style scoped>\n",
       "    .dataframe tbody tr th:only-of-type {\n",
       "        vertical-align: middle;\n",
       "    }\n",
       "\n",
       "    .dataframe tbody tr th {\n",
       "        vertical-align: top;\n",
       "    }\n",
       "\n",
       "    .dataframe thead th {\n",
       "        text-align: right;\n",
       "    }\n",
       "</style>\n",
       "<table border=\"1\" class=\"dataframe\">\n",
       "  <thead>\n",
       "    <tr style=\"text-align: right;\">\n",
       "      <th></th>\n",
       "      <th>ride_id</th>\n",
       "      <th>rideable_type</th>\n",
       "      <th>started_at</th>\n",
       "      <th>ended_at</th>\n",
       "      <th>start_station_name</th>\n",
       "      <th>start_station_id</th>\n",
       "      <th>end_station_name</th>\n",
       "      <th>end_station_id</th>\n",
       "      <th>start_lat</th>\n",
       "      <th>start_lng</th>\n",
       "      <th>end_lat</th>\n",
       "      <th>end_lng</th>\n",
       "      <th>member_casual</th>\n",
       "    </tr>\n",
       "  </thead>\n",
       "  <tbody>\n",
       "    <tr>\n",
       "      <th>0</th>\n",
       "      <td>FD85DE523427365B</td>\n",
       "      <td>classic_bike</td>\n",
       "      <td>2022-06-08 18:55:00</td>\n",
       "      <td>2022-06-08 18:58:13</td>\n",
       "      <td>E 149 St &amp; Park Ave</td>\n",
       "      <td>7884.04</td>\n",
       "      <td>Morris Ave &amp; E 153 St</td>\n",
       "      <td>7901.04</td>\n",
       "      <td>40.818154</td>\n",
       "      <td>-73.925294</td>\n",
       "      <td>40.820036</td>\n",
       "      <td>-73.921411</td>\n",
       "      <td>member</td>\n",
       "    </tr>\n",
       "    <tr>\n",
       "      <th>1</th>\n",
       "      <td>E1DF44B06B360036</td>\n",
       "      <td>classic_bike</td>\n",
       "      <td>2022-06-18 16:34:50</td>\n",
       "      <td>2022-06-18 16:47:49</td>\n",
       "      <td>E 115 St &amp; Madison Ave</td>\n",
       "      <td>7599.02</td>\n",
       "      <td>W 148 St &amp; Amsterdam Ave</td>\n",
       "      <td>8033.09</td>\n",
       "      <td>40.798983</td>\n",
       "      <td>-73.944716</td>\n",
       "      <td>40.827075</td>\n",
       "      <td>-73.945909</td>\n",
       "      <td>member</td>\n",
       "    </tr>\n",
       "    <tr>\n",
       "      <th>2</th>\n",
       "      <td>72B6DBF42BC1F9E1</td>\n",
       "      <td>classic_bike</td>\n",
       "      <td>2022-06-11 17:57:00</td>\n",
       "      <td>2022-06-11 18:07:33</td>\n",
       "      <td>E 115 St &amp; Madison Ave</td>\n",
       "      <td>7599.02</td>\n",
       "      <td>2 Ave &amp; E 99 St</td>\n",
       "      <td>7386.10</td>\n",
       "      <td>40.798944</td>\n",
       "      <td>-73.944846</td>\n",
       "      <td>40.786259</td>\n",
       "      <td>-73.945526</td>\n",
       "      <td>member</td>\n",
       "    </tr>\n",
       "    <tr>\n",
       "      <th>3</th>\n",
       "      <td>5FABA5CB97A6EA64</td>\n",
       "      <td>classic_bike</td>\n",
       "      <td>2022-06-23 17:32:04</td>\n",
       "      <td>2022-06-23 17:38:36</td>\n",
       "      <td>W Broadway &amp; Spring St</td>\n",
       "      <td>5569.06</td>\n",
       "      <td>N Moore St &amp; Hudson St</td>\n",
       "      <td>5470.02</td>\n",
       "      <td>40.724947</td>\n",
       "      <td>-74.001659</td>\n",
       "      <td>40.719961</td>\n",
       "      <td>-74.008443</td>\n",
       "      <td>member</td>\n",
       "    </tr>\n",
       "    <tr>\n",
       "      <th>4</th>\n",
       "      <td>EBA54764AA1A3A41</td>\n",
       "      <td>classic_bike</td>\n",
       "      <td>2022-06-30 16:17:43</td>\n",
       "      <td>2022-06-30 16:27:58</td>\n",
       "      <td>E 14 St &amp; 1 Ave</td>\n",
       "      <td>5779.1</td>\n",
       "      <td>5 Ave &amp; E 29 St</td>\n",
       "      <td>6248.06</td>\n",
       "      <td>40.731393</td>\n",
       "      <td>-73.982867</td>\n",
       "      <td>40.745168</td>\n",
       "      <td>-73.986831</td>\n",
       "      <td>member</td>\n",
       "    </tr>\n",
       "  </tbody>\n",
       "</table>\n",
       "</div>"
      ],
      "text/plain": [
       "            ride_id rideable_type           started_at             ended_at  \\\n",
       "0  FD85DE523427365B  classic_bike  2022-06-08 18:55:00  2022-06-08 18:58:13   \n",
       "1  E1DF44B06B360036  classic_bike  2022-06-18 16:34:50  2022-06-18 16:47:49   \n",
       "2  72B6DBF42BC1F9E1  classic_bike  2022-06-11 17:57:00  2022-06-11 18:07:33   \n",
       "3  5FABA5CB97A6EA64  classic_bike  2022-06-23 17:32:04  2022-06-23 17:38:36   \n",
       "4  EBA54764AA1A3A41  classic_bike  2022-06-30 16:17:43  2022-06-30 16:27:58   \n",
       "\n",
       "       start_station_name start_station_id          end_station_name  \\\n",
       "0     E 149 St & Park Ave          7884.04     Morris Ave & E 153 St   \n",
       "1  E 115 St & Madison Ave          7599.02  W 148 St & Amsterdam Ave   \n",
       "2  E 115 St & Madison Ave          7599.02           2 Ave & E 99 St   \n",
       "3  W Broadway & Spring St          5569.06    N Moore St & Hudson St   \n",
       "4         E 14 St & 1 Ave           5779.1           5 Ave & E 29 St   \n",
       "\n",
       "  end_station_id  start_lat  start_lng    end_lat    end_lng member_casual  \n",
       "0        7901.04  40.818154 -73.925294  40.820036 -73.921411        member  \n",
       "1        8033.09  40.798983 -73.944716  40.827075 -73.945909        member  \n",
       "2        7386.10  40.798944 -73.944846  40.786259 -73.945526        member  \n",
       "3        5470.02  40.724947 -74.001659  40.719961 -74.008443        member  \n",
       "4        6248.06  40.731393 -73.982867  40.745168 -73.986831        member  "
      ]
     },
     "execution_count": 4,
     "metadata": {},
     "output_type": "execute_result"
    }
   ],
   "source": [
    "df=pd.read_csv(\"202206-citbike-tripdata.csv\")\n",
    "df.head()\n",
    "\n"
   ]
  },
  {
   "cell_type": "code",
   "execution_count": 5,
   "metadata": {},
   "outputs": [
    {
     "data": {
      "text/plain": [
       "ride_id                object\n",
       "rideable_type          object\n",
       "started_at             object\n",
       "ended_at               object\n",
       "start_station_name     object\n",
       "start_station_id       object\n",
       "end_station_name       object\n",
       "end_station_id         object\n",
       "start_lat             float64\n",
       "start_lng             float64\n",
       "end_lat               float64\n",
       "end_lng               float64\n",
       "member_casual          object\n",
       "dtype: object"
      ]
     },
     "execution_count": 5,
     "metadata": {},
     "output_type": "execute_result"
    }
   ],
   "source": [
    "df.dtypes"
   ]
  },
  {
   "cell_type": "code",
   "execution_count": 16,
   "metadata": {},
   "outputs": [],
   "source": [
    "df[\"started_at\"]=pd.to_datetime(df[\"started_at\"])\n",
    "df[\"ended_at\"]=pd.to_datetime(df[\"ended_at\"])"
   ]
  },
  {
   "cell_type": "code",
   "execution_count": 17,
   "metadata": {},
   "outputs": [
    {
     "data": {
      "text/plain": [
       "ride_id                       object\n",
       "rideable_type                 object\n",
       "started_at            datetime64[ns]\n",
       "ended_at              datetime64[ns]\n",
       "start_station_name            object\n",
       "start_station_id              object\n",
       "end_station_name              object\n",
       "end_station_id                object\n",
       "start_lat                    float64\n",
       "start_lng                    float64\n",
       "end_lat                      float64\n",
       "end_lng                      float64\n",
       "member_casual                 object\n",
       "dtype: object"
      ]
     },
     "execution_count": 17,
     "metadata": {},
     "output_type": "execute_result"
    }
   ],
   "source": [
    "df.dtypes"
   ]
  },
  {
   "cell_type": "code",
   "execution_count": null,
   "metadata": {},
   "outputs": [],
   "source": [
    "df.to_csv(\"cleaned_data.csv\",index=False)"
   ]
  }
 ],
 "metadata": {
  "kernelspec": {
   "display_name": "PythonData",
   "language": "python",
   "name": "pythondata"
  },
  "language_info": {
   "codemirror_mode": {
    "name": "ipython",
    "version": 3
   },
   "file_extension": ".py",
   "mimetype": "text/x-python",
   "name": "python",
   "nbconvert_exporter": "python",
   "pygments_lexer": "ipython3",
   "version": "3.9.13"
  },
  "orig_nbformat": 4
 },
 "nbformat": 4,
 "nbformat_minor": 2
}
